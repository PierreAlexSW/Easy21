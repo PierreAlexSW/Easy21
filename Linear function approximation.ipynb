{
 "cells": [
  {
   "cell_type": "code",
   "execution_count": 17,
   "metadata": {
    "collapsed": true
   },
   "outputs": [],
   "source": [
    "import numpy as np\n",
    "import itertools"
   ]
  },
  {
   "cell_type": "code",
   "execution_count": 39,
   "metadata": {},
   "outputs": [],
   "source": [
    "def binary_feature(state, action):\n",
    "    \n",
    "    def turn_couple_to_index(couple):\n",
    "        [a,d,p] = couple\n",
    "        return 3*6*a + 6*d + p\n",
    "    \n",
    "    binary_feature_vector = np.zeros((2*3*6,))\n",
    "    dealer, player_sum = state[\"dealer\"], state[\"player_sum\"]\n",
    "    dealer_intervals = [[1,4], [4,7],[7,10]]\n",
    "    dealer_cuboids = [np.linspace(dealer_interval[0], dealer_interval[1], dealer_interval[1]-dealer_interval[0]+1) for dealer_interval in dealer_intervals]\n",
    "    player_intervals = [[1,6], [4,9], [7,12], [10,15], [13,18], [16,21]]\n",
    "    player_cuboids = [np.linspace(player_interval[0], player_interval[1], player_interval[1]-player_interval[0]+1) for player_interval in player_intervals]    \n",
    "    \n",
    "    dealer_to_activate, player_to_activate = [], []\n",
    "    action_to_activate = [action]\n",
    "    \n",
    "    for k,dealer_cuboid in enumerate(dealer_cuboids):\n",
    "        if dealer in dealer_cuboid:\n",
    "            dealer_to_activate.append(k)\n",
    "    for j,player_cuboid in enumerate(player_cuboids):\n",
    "        if player_sum in player_cuboid:\n",
    "            player_to_activate.append(j)\n",
    "    \n",
    "    couples = list(itertools.product(action_to_activate, dealer_to_activate, player_to_activate))\n",
    "    index_couples = [turn_couple_to_index(couple) for couple in couples]\n",
    "    for index in index_couples:\n",
    "        binary_feature_vector[index]=1\n",
    "    return binary_feature_vector"
   ]
  },
  {
   "cell_type": "code",
   "execution_count": 42,
   "metadata": {},
   "outputs": [
    {
     "name": "stdout",
     "output_type": "stream",
     "text": [
      "[ 0.  0.  0.  0.  0.  0.  0.  0.  0.  0.  0.  0.  0.  0.  1.  1.  0.  0.\n",
      "  0.  0.  0.  0.  0.  0.  0.  0.  0.  0.  0.  0.  0.  0.  0.  0.  0.  0.]\n"
     ]
    }
   ],
   "source": [
    "state  = {\"dealer\":10,\"player_sum\":10}\n",
    "action = 0\n",
    "print(binary_feature(state, action))"
   ]
  },
  {
   "cell_type": "code",
   "execution_count": null,
   "metadata": {
    "collapsed": true
   },
   "outputs": [],
   "source": []
  }
 ],
 "metadata": {
  "kernelspec": {
   "display_name": "Python 3",
   "language": "python",
   "name": "python3"
  },
  "language_info": {
   "codemirror_mode": {
    "name": "ipython",
    "version": 3
   },
   "file_extension": ".py",
   "mimetype": "text/x-python",
   "name": "python",
   "nbconvert_exporter": "python",
   "pygments_lexer": "ipython3",
   "version": "3.6.1"
  }
 },
 "nbformat": 4,
 "nbformat_minor": 2
}
